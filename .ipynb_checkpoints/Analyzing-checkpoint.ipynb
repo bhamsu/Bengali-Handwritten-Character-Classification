{
 "cells": [
  {
   "cell_type": "code",
   "execution_count": 1,
   "metadata": {},
   "outputs": [],
   "source": [
    "import json"
   ]
  },
  {
   "cell_type": "code",
   "execution_count": 8,
   "metadata": {},
   "outputs": [],
   "source": [
    "with open(\"loss_scores\",\"r\") as fp:\n",
    "    loss = json.load(fp)\n",
    "    fp.close()\n",
    "    \n",
    "with open(\"accuracy_scores\",\"r\") as fp:\n",
    "    accuracy = json.load(fp)\n",
    "    fp.close()\n",
    "\n",
    "with open(\"val_loss_scores\",\"r\") as fp:\n",
    "    val_loss= json.load(fp)\n",
    "    fp.close()\n",
    "    \n",
    "with open(\"val_accuracy_scores\",\"r\") as fp:\n",
    "    vall_accuracy = json.load(fp)\n",
    "    fp.close()"
   ]
  },
  {
   "cell_type": "code",
   "execution_count": 7,
   "metadata": {},
   "outputs": [
    {
     "data": {
      "text/plain": [
       "''"
      ]
     },
     "execution_count": 7,
     "metadata": {},
     "output_type": "execute_result"
    }
   ],
   "source": [
    "loss"
   ]
  },
  {
   "cell_type": "code",
   "execution_count": 9,
   "metadata": {},
   "outputs": [
    {
     "data": {
      "text/plain": [
       "[0.526252806186676,\n",
       " 0.8248612880706787,\n",
       " 0.8720201253890991,\n",
       " 0.8951226472854614,\n",
       " 0.9115394949913025]"
      ]
     },
     "execution_count": 9,
     "metadata": {},
     "output_type": "execute_result"
    }
   ],
   "source": [
    "accuracy"
   ]
  },
  {
   "cell_type": "code",
   "execution_count": null,
   "metadata": {},
   "outputs": [],
   "source": []
  }
 ],
 "metadata": {
  "kernelspec": {
   "display_name": "Python 3",
   "language": "python",
   "name": "python3"
  },
  "language_info": {
   "codemirror_mode": {
    "name": "ipython",
    "version": 3
   },
   "file_extension": ".py",
   "mimetype": "text/x-python",
   "name": "python",
   "nbconvert_exporter": "python",
   "pygments_lexer": "ipython3",
   "version": "3.8.5"
  }
 },
 "nbformat": 4,
 "nbformat_minor": 4
}
